{
 "cells": [
  {
   "cell_type": "markdown",
   "metadata": {
    "colab_type": "text"
   },
   "source": [
    "# Large-scale multi-label text classification\n",
    "\n",
    "**Author:** [Sayak Paul](https://twitter.com/RisingSayak), [Soumik Rakshit](https://github.com/soumik12345)<br>\n",
    "**Date created:** 2020/09/25<br>\n",
    "**Last modified:** 2020/12/23<br>\n",
    "**Description:** Implementing a large-scale multi-label text classification model."
   ]
  },
  {
   "cell_type": "markdown",
   "metadata": {
    "colab_type": "text"
   },
   "source": [
    "## Introduction\n",
    "\n",
    "In this example, we will build a multi-label text classifier to predict the subject areas\n",
    "of arXiv papers from their abstract bodies. This type of classifier can be useful for\n",
    "conference submission portals like [OpenReview](https://openreview.net/). Given a paper\n",
    "abstract, the portal could provide suggestions for which areas the paper would\n",
    "best belong to.\n",
    "\n",
    "The dataset was collected using the\n",
    "[`arXiv` Python library](https://github.com/lukasschwab/arxiv.py)\n",
    "that provides a wrapper around the\n",
    "[original arXiv API](http://arxiv.org/help/api/index).\n",
    "To learn more about the data collection process, please refer to\n",
    "[this notebook](https://github.com/soumik12345/multi-label-text-classification/blob/master/arxiv_scrape.ipynb).\n",
    "Additionally, you can also find the dataset on\n",
    "[Kaggle](https://www.kaggle.com/spsayakpaul/arxiv-paper-abstracts)."
   ]
  },
  {
   "cell_type": "markdown",
   "metadata": {
    "colab_type": "text"
   },
   "source": [
    "## Imports"
   ]
  },
  {
   "cell_type": "code",
   "execution_count": 1,
   "metadata": {
    "colab_type": "code"
   },
   "outputs": [],
   "source": [
    "from tensorflow.keras import layers\n",
    "from tensorflow import keras\n",
    "import tensorflow as tf\n",
    "\n",
    "from sklearn.model_selection import train_test_split\n",
    "from ast import literal_eval\n",
    "# ast.literal_eval raises an exception if the input isn't a valid Python datatype, so the code won't be executed if it's not\n",
    "\n",
    "import matplotlib.pyplot as plt\n",
    "import pandas as pd\n",
    "import numpy as np"
   ]
  },
  {
   "cell_type": "markdown",
   "metadata": {
    "colab_type": "text"
   },
   "source": [
    "## Perform exploratory data analysis\n",
    "\n",
    "In this section, we first load the dataset into a `pandas` dataframe and then perform\n",
    "some basic exploratory data analysis (EDA)."
   ]
  },
  {
   "cell_type": "code",
   "execution_count": 2,
   "metadata": {
    "colab_type": "code"
   },
   "outputs": [
    {
     "data": {
      "text/html": [
       "<div>\n",
       "<style scoped>\n",
       "    .dataframe tbody tr th:only-of-type {\n",
       "        vertical-align: middle;\n",
       "    }\n",
       "\n",
       "    .dataframe tbody tr th {\n",
       "        vertical-align: top;\n",
       "    }\n",
       "\n",
       "    .dataframe thead th {\n",
       "        text-align: right;\n",
       "    }\n",
       "</style>\n",
       "<table border=\"1\" class=\"dataframe\">\n",
       "  <thead>\n",
       "    <tr style=\"text-align: right;\">\n",
       "      <th></th>\n",
       "      <th>titles</th>\n",
       "      <th>summaries</th>\n",
       "      <th>terms</th>\n",
       "    </tr>\n",
       "  </thead>\n",
       "  <tbody>\n",
       "    <tr>\n",
       "      <th>0</th>\n",
       "      <td>Survey on Semantic Stereo Matching / Semantic ...</td>\n",
       "      <td>Stereo matching is one of the widely used tech...</td>\n",
       "      <td>['cs.CV', 'cs.LG']</td>\n",
       "    </tr>\n",
       "    <tr>\n",
       "      <th>1</th>\n",
       "      <td>FUTURE-AI: Guiding Principles and Consensus Re...</td>\n",
       "      <td>The recent advancements in artificial intellig...</td>\n",
       "      <td>['cs.CV', 'cs.AI', 'cs.LG']</td>\n",
       "    </tr>\n",
       "    <tr>\n",
       "      <th>2</th>\n",
       "      <td>Enforcing Mutual Consistency of Hard Regions f...</td>\n",
       "      <td>In this paper, we proposed a novel mutual cons...</td>\n",
       "      <td>['cs.CV', 'cs.AI']</td>\n",
       "    </tr>\n",
       "    <tr>\n",
       "      <th>3</th>\n",
       "      <td>Parameter Decoupling Strategy for Semi-supervi...</td>\n",
       "      <td>Consistency training has proven to be an advan...</td>\n",
       "      <td>['cs.CV']</td>\n",
       "    </tr>\n",
       "    <tr>\n",
       "      <th>4</th>\n",
       "      <td>Background-Foreground Segmentation for Interio...</td>\n",
       "      <td>To ensure safety in automated driving, the cor...</td>\n",
       "      <td>['cs.CV', 'cs.LG']</td>\n",
       "    </tr>\n",
       "  </tbody>\n",
       "</table>\n",
       "</div>"
      ],
      "text/plain": [
       "                                              titles  \\\n",
       "0  Survey on Semantic Stereo Matching / Semantic ...   \n",
       "1  FUTURE-AI: Guiding Principles and Consensus Re...   \n",
       "2  Enforcing Mutual Consistency of Hard Regions f...   \n",
       "3  Parameter Decoupling Strategy for Semi-supervi...   \n",
       "4  Background-Foreground Segmentation for Interio...   \n",
       "\n",
       "                                           summaries  \\\n",
       "0  Stereo matching is one of the widely used tech...   \n",
       "1  The recent advancements in artificial intellig...   \n",
       "2  In this paper, we proposed a novel mutual cons...   \n",
       "3  Consistency training has proven to be an advan...   \n",
       "4  To ensure safety in automated driving, the cor...   \n",
       "\n",
       "                         terms  \n",
       "0           ['cs.CV', 'cs.LG']  \n",
       "1  ['cs.CV', 'cs.AI', 'cs.LG']  \n",
       "2           ['cs.CV', 'cs.AI']  \n",
       "3                    ['cs.CV']  \n",
       "4           ['cs.CV', 'cs.LG']  "
      ]
     },
     "execution_count": 2,
     "metadata": {},
     "output_type": "execute_result"
    }
   ],
   "source": [
    "arxiv_data = pd.read_csv(\n",
    "    \"https://github.com/soumik12345/multi-label-text-classification/releases/download/v0.2/arxiv_data.csv\"\n",
    ")\n",
    "arxiv_data.head()"
   ]
  },
  {
   "cell_type": "markdown",
   "metadata": {
    "colab_type": "text"
   },
   "source": [
    "Our text features are present in the `summaries` column and their corresponding labels\n",
    "are in `terms`. As you can notice, there are multiple categories associated with a\n",
    "particular entry."
   ]
  },
  {
   "cell_type": "code",
   "execution_count": 3,
   "metadata": {
    "colab_type": "code"
   },
   "outputs": [
    {
     "name": "stdout",
     "output_type": "stream",
     "text": [
      "There are 51774 rows in the dataset.\n"
     ]
    }
   ],
   "source": [
    "print(f\"There are {len(arxiv_data)} rows in the dataset.\")"
   ]
  },
  {
   "cell_type": "markdown",
   "metadata": {
    "colab_type": "text"
   },
   "source": [
    "Real-world data is noisy. One of the most commonly observed source of noise is data\n",
    "duplication. Here we notice that our initial dataset has got about 13k duplicate entries."
   ]
  },
  {
   "cell_type": "code",
   "execution_count": 4,
   "metadata": {
    "colab_type": "code"
   },
   "outputs": [
    {
     "name": "stdout",
     "output_type": "stream",
     "text": [
      "There are 12802 duplicate titles.\n"
     ]
    }
   ],
   "source": [
    "total_duplicate_titles = sum(arxiv_data[\"titles\"].duplicated())\n",
    "print(f\"There are {total_duplicate_titles} duplicate titles.\")"
   ]
  },
  {
   "cell_type": "markdown",
   "metadata": {
    "colab_type": "text"
   },
   "source": [
    "Before proceeding further, we drop these entries."
   ]
  },
  {
   "cell_type": "code",
   "execution_count": 5,
   "metadata": {
    "colab_type": "code"
   },
   "outputs": [
    {
     "name": "stdout",
     "output_type": "stream",
     "text": [
      "There are 38972 rows in the deduplicated dataset.\n",
      "2321\n",
      "3157\n"
     ]
    }
   ],
   "source": [
    "arxiv_data = arxiv_data[~arxiv_data[\"titles\"].duplicated()]\n",
    "print(f\"There are {len(arxiv_data)} rows in the deduplicated dataset.\")\n",
    "\n",
    "# There are some terms with occurrence as low as 1.\n",
    "print(sum(arxiv_data[\"terms\"].value_counts() == 1))\n",
    "\n",
    "# How many unique terms?\n",
    "print(arxiv_data[\"terms\"].nunique())"
   ]
  },
  {
   "cell_type": "markdown",
   "metadata": {
    "colab_type": "text"
   },
   "source": [
    "As observed above, out of 3,157 unique combinations of `terms`, 2,321 entries have the\n",
    "lowest occurrence. To prepare our train, validation, and test sets with\n",
    "[stratification](https://en.wikipedia.org/wiki/Stratified_sampling), we need to drop\n",
    "these terms."
   ]
  },
  {
   "cell_type": "code",
   "execution_count": 6,
   "metadata": {
    "colab_type": "code"
   },
   "outputs": [
    {
     "name": "stdout",
     "output_type": "stream",
     "text": [
      "(36651, 3)\n",
      "836\n"
     ]
    }
   ],
   "source": [
    "# Filtering the rare terms.\n",
    "arxiv_data_filtered = arxiv_data.groupby(\"terms\").filter(lambda x: len(x) > 1)\n",
    "print(arxiv_data_filtered.shape)\n",
    "print(arxiv_data_filtered[\"terms\"].nunique())"
   ]
  },
  {
   "cell_type": "markdown",
   "metadata": {
    "colab_type": "text"
   },
   "source": [
    "## Convert the string labels to lists of strings\n",
    "\n",
    "The initial labels are represented as raw strings. Here we make them `List[str]` for a\n",
    "more compact representation."
   ]
  },
  {
   "cell_type": "code",
   "execution_count": 7,
   "metadata": {
    "colab_type": "code"
   },
   "outputs": [
    {
     "data": {
      "text/plain": [
       "array([list(['cs.CV', 'cs.LG']), list(['cs.CV', 'cs.AI', 'cs.LG']),\n",
       "       list(['cs.CV', 'cs.AI']), list(['cs.CV']),\n",
       "       list(['cs.CV', 'cs.LG'])], dtype=object)"
      ]
     },
     "execution_count": 7,
     "metadata": {},
     "output_type": "execute_result"
    }
   ],
   "source": [
    "arxiv_data_filtered[\"terms\"] = arxiv_data_filtered[\"terms\"].apply(\n",
    "    lambda x: literal_eval(x)\n",
    ")\n",
    "arxiv_data_filtered[\"terms\"].values[:5]"
   ]
  },
  {
   "cell_type": "markdown",
   "metadata": {
    "colab_type": "text"
   },
   "source": [
    "## Use stratified splits because of class imbalance\n",
    "\n",
    "The dataset has a\n",
    "[class imbalance problem](https://developers.google.com/machine-learning/glossary/#class-imbalanced-dataset).\n",
    "So, to have a fair evaluation result, we need to ensure the datasets are sampled with\n",
    "stratification. To know more about different strategies to deal with the class imbalance\n",
    "problem, you can follow\n",
    "[this tutorial](https://www.tensorflow.org/tutorials/structured_data/imbalanced_data).\n",
    "For an end-to-end demonstration of classification with imbablanced data, refer to\n",
    "[Imbalanced classification: credit card fraud detection](https://keras.io/examples/structured_data/imbalanced_classification/)."
   ]
  },
  {
   "cell_type": "code",
   "execution_count": 8,
   "metadata": {
    "colab_type": "code"
   },
   "outputs": [
    {
     "name": "stdout",
     "output_type": "stream",
     "text": [
      "Number of rows in training set: 32985\n",
      "Number of rows in validation set: 1833\n",
      "Number of rows in test set: 1833\n"
     ]
    }
   ],
   "source": [
    "test_split = 0.1\n",
    "\n",
    "# Initial train and test split.\n",
    "train_df, test_df = train_test_split(\n",
    "    arxiv_data_filtered,\n",
    "    test_size=test_split,\n",
    "    stratify=arxiv_data_filtered[\"terms\"].values,\n",
    ")\n",
    "\n",
    "# Splitting the test set further into validation\n",
    "# and new test sets.\n",
    "val_df = test_df.sample(frac=0.5)\n",
    "test_df.drop(val_df.index, inplace=True)\n",
    "\n",
    "print(f\"Number of rows in training set: {len(train_df)}\")\n",
    "print(f\"Number of rows in validation set: {len(val_df)}\")\n",
    "print(f\"Number of rows in test set: {len(test_df)}\")"
   ]
  },
  {
   "cell_type": "markdown",
   "metadata": {
    "colab_type": "text"
   },
   "source": [
    "## Multi-label binarization\n",
    "\n",
    "Now we preprocess our labels using the\n",
    "[`StringLookup`](https://keras.io/api/layers/preprocessing_layers/categorical/string_lookup)\n",
    "layer. It is a preprocessing layer which maps string features to integer indices.\n",
    "There are 4 Categorical features preprocessing layers viz. CategoryEncoding layer, Hashing layer, StringLookup layer and IntegerLookup layer"
   ]
  },
  {
   "cell_type": "code",
   "execution_count": 9,
   "metadata": {
    "colab_type": "code"
   },
   "outputs": [
    {
     "name": "stdout",
     "output_type": "stream",
     "text": [
      "Vocabulary:\n",
      "\n",
      "['[UNK]', 'cs.CV', 'cs.LG', 'stat.ML', 'cs.AI', 'eess.IV', 'cs.RO', 'cs.CL', 'cs.NE', 'cs.CR', 'math.OC', 'eess.SP', 'cs.GR', 'cs.SI', 'cs.MM', 'cs.SY', 'cs.IR', 'cs.MA', 'eess.SY', 'cs.HC', 'math.IT', 'cs.IT', 'cs.DC', 'cs.CY', 'stat.AP', 'stat.TH', 'math.ST', 'stat.ME', 'eess.AS', 'cs.SD', 'q-bio.QM', 'q-bio.NC', 'cs.DS', 'cs.GT', 'cs.CG', 'cs.NI', 'cs.SE', 'I.2.6', 'stat.CO', 'math.NA', 'cs.NA', 'physics.chem-ph', 'cs.DB', 'q-bio.BM', 'cs.LO', 'cond-mat.dis-nn', '68T45', 'math.PR', 'cs.PL', 'physics.comp-ph', 'I.2.10', 'cs.CE', 'cs.AR', 'q-fin.ST', 'cond-mat.stat-mech', '68T05', 'quant-ph', 'math.DS', 'cs.CC', 'physics.data-an', 'I.4.6', 'physics.soc-ph', 'physics.ao-ph', 'q-bio.GN', 'econ.EM', 'cs.DM', 'physics.med-ph', 'astro-ph.IM', 'I.4.8', 'math.AT', 'cs.PF', 'I.4', 'q-fin.TR', 'cs.FL', 'I.5.4', 'I.2', '68U10', 'hep-ex', '68T10', 'physics.geo-ph', 'cond-mat.mtrl-sci', 'physics.optics', 'physics.flu-dyn', 'math.AP', 'I.4; I.5', 'I.4.9', 'I.2.6; I.2.8', 'I.2.10; I.4; I.5', '68T01', '65D19', 'q-fin.CP', 'nlin.CD', 'math.CO', 'cs.MS', 'I.2.6; I.5.1', 'I.2.0; I.2.6', '68T07', 'cs.SC', 'cs.ET', 'K.3.2', 'I.2; I.5', 'I.2.8', '68U01', '68T30', 'q-fin.GN', 'q-fin.EC', 'q-bio.MN', 'econ.GN', 'I.4.9; I.5.4', 'I.4.5', 'I.2; I.4; I.5', 'I.2.6; I.2.7', 'I.2.10; I.4.8', '68T99', '68Q32', '68', '62H30', 'q-fin.RM', 'q-fin.PM', 'q-bio.TO', 'q-bio.OT', 'physics.bio-ph', 'nlin.AO', 'math.LO', 'math.FA', 'hep-ph', 'cond-mat.soft', 'I.4.6; I.4.8', 'I.4.4', 'I.4.3', 'I.4.0', 'I.2; J.2', 'I.2; I.2.6; I.2.7', 'I.2.7', 'I.2.6; I.5.4', 'I.2.6; I.2.9', 'I.2.6; I.2.7; H.3.1; H.3.3', 'I.2.6; I.2.10', 'I.2.6, I.5.4', 'I.2.1; J.3', 'I.2.10; I.5.1; I.4.8', 'I.2.10; I.4.8; I.5.4', 'I.2.10; I.2.6', 'I.2.1', 'H.3.1; I.2.6; I.2.7', 'H.3.1; H.3.3; I.2.6; I.2.7', 'G.3', 'F.2.2; I.2.7', 'E.5; E.4; E.2; H.1.1; F.1.1; F.1.3', '68Txx', '62H99', '62H35', '14J60 (Primary) 14F05, 14J26 (Secondary)']\n"
     ]
    }
   ],
   "source": [
    "terms = tf.ragged.constant(train_df[\"terms\"].values)\n",
    "lookup = tf.keras.layers.StringLookup(output_mode=\"multi_hot\")\n",
    "lookup.adapt(terms)\n",
    "vocab = lookup.get_vocabulary()\n",
    "\n",
    "\n",
    "def invert_multi_hot(encoded_labels):\n",
    "    \"\"\"Reverse a single multi-hot encoded label to a tuple of vocab terms.\"\"\"\n",
    "    hot_indices = np.argwhere(encoded_labels == 1.0)[..., 0]\n",
    "#     '...' or Ellipsis is used to access and slice multidimensional arrays. \n",
    "#     In the above example, [:, :, :, 0], […, 0] and [Ellipsis, 0] are all equivalent.\n",
    "    return np.take(vocab, hot_indices)\n",
    "# np.take takes elements from an array along an axis.\n",
    "\n",
    "\n",
    "print(\"Vocabulary:\\n\")\n",
    "print(vocab)\n"
   ]
  },
  {
   "cell_type": "markdown",
   "metadata": {
    "colab_type": "text"
   },
   "source": [
    "Here we are separating the individual unique classes available from the label\n",
    "pool and then using this information to represent a given label set with 0's and 1's.\n",
    "Below is an example."
   ]
  },
  {
   "cell_type": "code",
   "execution_count": 10,
   "metadata": {
    "colab_type": "code"
   },
   "outputs": [
    {
     "name": "stdout",
     "output_type": "stream",
     "text": [
      "Original label: ['cs.CV']\n",
      "Label-binarized representation: [[0. 1. 0. 0. 0. 0. 0. 0. 0. 0. 0. 0. 0. 0. 0. 0. 0. 0. 0. 0. 0. 0. 0. 0.\n",
      "  0. 0. 0. 0. 0. 0. 0. 0. 0. 0. 0. 0. 0. 0. 0. 0. 0. 0. 0. 0. 0. 0. 0. 0.\n",
      "  0. 0. 0. 0. 0. 0. 0. 0. 0. 0. 0. 0. 0. 0. 0. 0. 0. 0. 0. 0. 0. 0. 0. 0.\n",
      "  0. 0. 0. 0. 0. 0. 0. 0. 0. 0. 0. 0. 0. 0. 0. 0. 0. 0. 0. 0. 0. 0. 0. 0.\n",
      "  0. 0. 0. 0. 0. 0. 0. 0. 0. 0. 0. 0. 0. 0. 0. 0. 0. 0. 0. 0. 0. 0. 0. 0.\n",
      "  0. 0. 0. 0. 0. 0. 0. 0. 0. 0. 0. 0. 0. 0. 0. 0. 0. 0. 0. 0. 0. 0. 0. 0.\n",
      "  0. 0. 0. 0. 0. 0. 0. 0. 0.]]\n"
     ]
    }
   ],
   "source": [
    "sample_label = train_df[\"terms\"].iloc[0]\n",
    "print(f\"Original label: {sample_label}\")\n",
    "\n",
    "label_binarized = lookup([sample_label])\n",
    "print(f\"Label-binarized representation: {label_binarized}\")"
   ]
  },
  {
   "cell_type": "markdown",
   "metadata": {
    "colab_type": "text"
   },
   "source": [
    "## Data preprocessing and `tf.data.Dataset` objects\n",
    "\n",
    "We first get percentile estimates of the sequence lengths. The purpose will be clear in a\n",
    "moment."
   ]
  },
  {
   "cell_type": "code",
   "execution_count": 11,
   "metadata": {
    "colab_type": "code"
   },
   "outputs": [
    {
     "data": {
      "text/plain": [
       "count    32985.000000\n",
       "mean       156.534061\n",
       "std         41.357899\n",
       "min          5.000000\n",
       "25%        128.000000\n",
       "50%        154.000000\n",
       "75%        183.000000\n",
       "max        295.000000\n",
       "Name: summaries, dtype: float64"
      ]
     },
     "execution_count": 11,
     "metadata": {},
     "output_type": "execute_result"
    }
   ],
   "source": [
    "train_df[\"summaries\"].apply(lambda x: len(x.split(\" \"))).describe()"
   ]
  },
  {
   "cell_type": "markdown",
   "metadata": {
    "colab_type": "text"
   },
   "source": [
    "Notice that 50% of the abstracts have a length of 154 (you may get a different number\n",
    "based on the split). So, any number close to that value is a good enough approximate for the\n",
    "maximum sequence length.\n",
    "\n",
    "Now, we implement utilities to prepare our datasets."
   ]
  },
  {
   "cell_type": "code",
   "execution_count": 12,
   "metadata": {
    "colab_type": "code"
   },
   "outputs": [],
   "source": [
    "max_seqlen = 150\n",
    "batch_size = 128\n",
    "padding_token = \"<pad>\"\n",
    "auto = tf.data.AUTOTUNE\n",
    "\n",
    "\n",
    "def make_dataset(dataframe, is_train=True):\n",
    "    labels = tf.ragged.constant(dataframe[\"terms\"].values)\n",
    "    label_binarized = lookup(labels).numpy()\n",
    "    dataset = tf.data.Dataset.from_tensor_slices(\n",
    "        (dataframe[\"summaries\"].values, label_binarized)\n",
    "    )\n",
    "    dataset = dataset.shuffle(batch_size * 10) if is_train else dataset\n",
    "    return dataset.batch(batch_size)\n"
   ]
  },
  {
   "cell_type": "markdown",
   "metadata": {
    "colab_type": "text"
   },
   "source": [
    "Now we can prepare the `tf.data.Dataset` objects."
   ]
  },
  {
   "cell_type": "code",
   "execution_count": 14,
   "metadata": {
    "colab_type": "code"
   },
   "outputs": [
    {
     "name": "stdout",
     "output_type": "stream",
     "text": [
      "(TensorSpec(shape=(None,), dtype=tf.string, name=None), TensorSpec(shape=(None, 153), dtype=tf.float32, name=None))\n",
      "(TensorSpec(shape=(None,), dtype=tf.string, name=None), TensorSpec(shape=(None, 153), dtype=tf.float32, name=None))\n"
     ]
    }
   ],
   "source": [
    "train_dataset = make_dataset(train_df, is_train=True)\n",
    "validation_dataset = make_dataset(val_df, is_train=False)\n",
    "test_dataset = make_dataset(test_df, is_train=False)\n",
    "print(train_dataset.element_spec)\n",
    "print(test_dataset.element_spec)\n",
    "# check number of columns in one hot vector are same - 153. "
   ]
  },
  {
   "cell_type": "markdown",
   "metadata": {
    "colab_type": "text"
   },
   "source": [
    "## Dataset preview"
   ]
  },
  {
   "cell_type": "code",
   "execution_count": 17,
   "metadata": {
    "colab_type": "code"
   },
   "outputs": [
    {
     "name": "stdout",
     "output_type": "stream",
     "text": [
      "Abstract: b'This paper describes a new method, HMM gauge likelihood analysis, or GLA, of\\ndetecting anomalies in discrete time series using Hidden Markov Models and\\nclustering. At the center of the method lies the comparison of subsequences. To\\nachieve this, they first get assigned to their Hidden Markov Models using the\\nBaum-Welch algorithm. Next, those models are described by an approximating\\nrepresentation of the probability distributions they define. Finally, this\\nrepresentation is then analyzed with the help of some clustering technique or\\nother outlier detection tool and anomalies are detected. Clearly, HMMs could be\\nsubstituted by some other appropriate model, e.g. some other dynamic Bayesian\\nnetwork. Our learning algorithm is unsupervised, so it does not require the\\nlabeling of large amounts of data. The usability of this method is demonstrated\\nby applying it to synthetic and real-world syslog data.'\n",
      "Label(s): ['cs.LG' 'stat.ML']\n",
      " \n",
      "Abstract: b'Unsupervised domain adaptation (UDA) aims to transfer knowledge learned from\\na labeled source domain to a different unlabeled target domain. Most existing\\nUDA methods focus on learning domain-invariant feature representation, either\\nfrom the domain level or category level, using convolution neural networks\\n(CNNs)-based frameworks. One fundamental problem for the category level based\\nUDA is the production of pseudo labels for samples in target domain, which are\\nusually too noisy for accurate domain alignment, inevitably compromising the\\nUDA performance. With the success of Transformer in various tasks, we find that\\nthe cross-attention in Transformer is robust to the noisy input pairs for\\nbetter feature alignment, thus in this paper Transformer is adopted for the\\nchallenging UDA task. Specifically, to generate accurate input pairs, we design\\na two-way center-aware labeling algorithm to produce pseudo labels for target\\nsamples. Along with the pseudo labels, a weight-sharing triple-branch\\ntransformer framework is proposed to apply self-attention and cross-attention\\nfor source/target feature learning and source-target domain alignment,\\nrespectively. Such design explicitly enforces the framework to learn\\ndiscriminative domain-specific and domain-invariant representations\\nsimultaneously. The proposed method is dubbed CDTrans (cross-domain\\ntransformer), and it provides one of the first attempts to solve UDA tasks with\\na pure transformer solution. Extensive experiments show that our proposed\\nmethod achieves the best performance on Office-Home, VisDA-2017, and DomainNet\\ndatasets.'\n",
      "Label(s): ['cs.CV' 'cs.LG']\n",
      " \n",
      "Abstract: b\"Top-down attention allows neural networks, both artificial and biological, to\\nfocus on the information most relevant for a given task. This is known to\\nenhance performance in visual perception. But it remains unclear how attention\\nbrings about its perceptual boost, especially when it comes to naturalistic\\nsettings like recognising an object in an everyday scene. What aspects of a\\nvisual task does attention help to deal with? We aim to answer this with a\\ncomputational experiment based on a general framework called task-oriented\\nablation design. First we define a broad range of visual tasks and identify six\\nfactors that underlie task variability. Then on each task we compare the\\nperformance of two neural networks, one with top-down attention and one\\nwithout. These comparisons reveal the task-dependence of attention's perceptual\\nboost, giving a clearer idea of the role attention plays. Whereas many existing\\ncognitive accounts link attention to stimulus-level variables, such as visual\\nclutter and object scale, we find greater explanatory power in system-level\\nvariables that capture the interaction between the model, the distribution of\\ntraining data and the task format. This finding suggests a shift in how\\nattention is studied could be fruitful. We make publicly available our code and\\nresults, along with statistics relevant to ImageNet-based experiments beyond\\nthis one. Our contribution serves to support the development of more human-like\\nvision models and the design of more informative machine-learning experiments.\"\n",
      "Label(s): ['cs.CV' 'cs.LG']\n",
      " \n",
      "Abstract: b\"Autonomous driving has achieved significant progress in recent years, but\\nautonomous cars are still unable to tackle high-risk situations where a\\npotential accident is likely. In such near-accident scenarios, even a minor\\nchange in the vehicle's actions may result in drastically different\\nconsequences. To avoid unsafe actions in near-accident scenarios, we need to\\nfully explore the environment. However, reinforcement learning (RL) and\\nimitation learning (IL), two widely-used policy learning methods, cannot model\\nrapid phase transitions and are not scalable to fully cover all the states. To\\naddress driving in near-accident scenarios, we propose a hierarchical\\nreinforcement and imitation learning (H-ReIL) approach that consists of\\nlow-level policies learned by IL for discrete driving modes, and a high-level\\npolicy learned by RL that switches between different driving modes. Our\\napproach exploits the advantages of both IL and RL by integrating them into a\\nunified learning framework. Experimental results and user studies suggest our\\napproach can achieve higher efficiency and safety compared to other methods.\\nAnalyses of the policies demonstrate our high-level policy appropriately\\nswitches between different low-level policies in near-accident driving\\nsituations.\"\n",
      "Label(s): ['cs.LG' 'stat.ML' 'cs.AI' 'cs.RO' 'cs.SY' 'eess.SY']\n",
      " \n",
      "Abstract: b'Given a vertex of interest in a network $G_1$, the vertex nomination problem\\nseeks to find the corresponding vertex of interest (if it exists) in a second\\nnetwork $G_2$. A vertex nomination scheme produces a list of the vertices in\\n$G_2$, ranked according to how likely they are judged to be the corresponding\\nvertex of interest in $G_2$. The vertex nomination problem and related\\ninformation retrieval tasks have attracted much attention in the machine\\nlearning literature, with numerous applications to social and biological\\nnetworks. However, the current framework has often been confined to a\\ncomparatively small class of network models, and the concept of statistically\\nconsistent vertex nomination schemes has been only shallowly explored. In this\\npaper, we extend the vertex nomination problem to a very general statistical\\nmodel of graphs. Further, drawing inspiration from the long-established\\nclassification framework in the pattern recognition literature, we provide\\ndefinitions for the key notions of Bayes optimality and consistency in our\\nextended vertex nomination framework, including a derivation of the Bayes\\noptimal vertex nomination scheme. In addition, we prove that no universally\\nconsistent vertex nomination schemes exist. Illustrative examples are provided\\nthroughout.'\n",
      "Label(s): ['stat.ML']\n",
      " \n"
     ]
    }
   ],
   "source": [
    "text_batch, label_batch = next(iter(train_dataset))\n",
    "\n",
    "for i, text in enumerate(text_batch[:5]):\n",
    "    label = label_batch[i].numpy()[None, ...]\n",
    "    print(f\"Abstract: {text}\")\n",
    "    print(f\"Label(s): {invert_multi_hot(label[0])}\")\n",
    "    print(\" \")"
   ]
  },
  {
   "cell_type": "markdown",
   "metadata": {
    "colab_type": "text"
   },
   "source": [
    "## Vectorization\n",
    "\n",
    "Before we feed the data to our model, we need to vectorize it (represent it in a numerical form).\n",
    "For that purpose, we will use the\n",
    "[`TextVectorization` layer](https://keras.io/api/layers/preprocessing_layers/text/text_vectorization).\n",
    "It can operate as a part of your main model so that the model is excluded from the core\n",
    "preprocessing logic. This greatly reduces the chances of training / serving skew during inference.\n",
    "\n",
    "We first calculate the number of unique words present in the abstracts."
   ]
  },
  {
   "cell_type": "code",
   "execution_count": 18,
   "metadata": {
    "colab_type": "code"
   },
   "outputs": [
    {
     "name": "stdout",
     "output_type": "stream",
     "text": [
      "153584\n"
     ]
    }
   ],
   "source": [
    "# Source: https://stackoverflow.com/a/18937309/7636462\n",
    "vocabulary = set()\n",
    "train_df[\"summaries\"].str.lower().str.split().apply(vocabulary.update)\n",
    "vocabulary_size = len(vocabulary)\n",
    "print(vocabulary_size)\n"
   ]
  },
  {
   "cell_type": "markdown",
   "metadata": {
    "colab_type": "text"
   },
   "source": [
    "We now create our vectorization layer and `map()` to the `tf.data.Dataset`s created\n",
    "earlier."
   ]
  },
  {
   "cell_type": "code",
   "execution_count": 19,
   "metadata": {
    "colab_type": "code"
   },
   "outputs": [],
   "source": [
    "text_vectorizer = layers.TextVectorization(\n",
    "    max_tokens=vocabulary_size, ngrams=2, output_mode=\"tf_idf\"\n",
    ")\n",
    "\n",
    "# `TextVectorization` layer needs to be adapted as per the vocabulary from our\n",
    "# training set.\n",
    "with tf.device(\"/CPU:0\"):\n",
    "    text_vectorizer.adapt(train_dataset.map(lambda text, label: text))\n",
    "\n",
    "train_dataset = train_dataset.map(\n",
    "    lambda text, label: (text_vectorizer(text), label), num_parallel_calls=auto\n",
    ").prefetch(auto)\n",
    "validation_dataset = validation_dataset.map(\n",
    "    lambda text, label: (text_vectorizer(text), label), num_parallel_calls=auto\n",
    ").prefetch(auto)\n",
    "test_dataset = test_dataset.map(\n",
    "    lambda text, label: (text_vectorizer(text), label), num_parallel_calls=auto\n",
    ").prefetch(auto)\n"
   ]
  },
  {
   "cell_type": "markdown",
   "metadata": {
    "colab_type": "text"
   },
   "source": [
    "A batch of raw text will first go through the `TextVectorization` layer and it will\n",
    "generate their integer representations. Internally, the `TextVectorization` layer will\n",
    "first create bi-grams out of the sequences and then represent them using\n",
    "[TF-IDF](https://wikipedia.org/wiki/Tf%E2%80%93idf). The output representations will then\n",
    "be passed to the shallow model responsible for text classification.\n",
    "\n",
    "To learn more about other possible configurations with `TextVectorizer`, please consult\n",
    "the\n",
    "[official documentation](https://keras.io/api/layers/preprocessing_layers/text/text_vectorization).\n",
    "\n",
    "**Note**: Setting the `max_tokens` argument to a pre-calculated vocabulary size is\n",
    "not a requirement."
   ]
  },
  {
   "cell_type": "markdown",
   "metadata": {
    "colab_type": "text"
   },
   "source": [
    "## Create a text classification model\n",
    "\n",
    "We will keep our model simple -- it will be a small stack of fully-connected layers with\n",
    "ReLU as the non-linearity."
   ]
  },
  {
   "cell_type": "code",
   "execution_count": 20,
   "metadata": {
    "colab_type": "code"
   },
   "outputs": [],
   "source": [
    "\n",
    "def make_model():\n",
    "    shallow_mlp_model = keras.Sequential(\n",
    "        [\n",
    "            layers.Dense(512, activation=\"relu\"),\n",
    "            layers.Dense(256, activation=\"relu\"),\n",
    "            layers.Dense(lookup.vocabulary_size(), activation=\"sigmoid\"),\n",
    "        ]  # More on why \"sigmoid\" has been used here in a moment.\n",
    "    )\n",
    "    return shallow_mlp_model\n"
   ]
  },
  {
   "cell_type": "markdown",
   "metadata": {
    "colab_type": "text"
   },
   "source": [
    "## Train the model\n",
    "\n",
    "We will train our model using the binary crossentropy loss. This is because the labels\n",
    "are not disjoint. For a given abstract, we may have multiple categories. So, we will\n",
    "divide the prediction task into a series of multiple binary classification problems. This\n",
    "is also why we kept the activation function of the classification layer in our model to\n",
    "sigmoid. Researchers have used other combinations of loss function and activation\n",
    "function as well. For example, in\n",
    "[Exploring the Limits of Weakly Supervised Pretraining](https://arxiv.org/abs/1805.00932),\n",
    "Mahajan et al. used the softmax activation function and cross-entropy loss to train\n",
    "their models."
   ]
  },
  {
   "cell_type": "code",
   "execution_count": 21,
   "metadata": {
    "colab_type": "code"
   },
   "outputs": [
    {
     "name": "stdout",
     "output_type": "stream",
     "text": [
      "Epoch 1/20\n",
      "258/258 [==============================] - 14s 43ms/step - loss: 0.0311 - categorical_accuracy: 0.8548 - val_loss: 0.0179 - val_categorical_accuracy: 0.9007\n",
      "Epoch 2/20\n",
      "258/258 [==============================] - 11s 43ms/step - loss: 0.0030 - categorical_accuracy: 0.8774 - val_loss: 0.0258 - val_categorical_accuracy: 0.8931\n",
      "Epoch 3/20\n",
      "258/258 [==============================] - 11s 43ms/step - loss: 7.6834e-04 - categorical_accuracy: 0.8514 - val_loss: 0.0317 - val_categorical_accuracy: 0.8849\n",
      "Epoch 4/20\n",
      "258/258 [==============================] - 11s 44ms/step - loss: 3.8945e-04 - categorical_accuracy: 0.8354 - val_loss: 0.0365 - val_categorical_accuracy: 0.8467\n",
      "Epoch 5/20\n",
      "258/258 [==============================] - 11s 43ms/step - loss: 2.0918e-04 - categorical_accuracy: 0.8285 - val_loss: 0.0385 - val_categorical_accuracy: 0.8756\n",
      "Epoch 6/20\n",
      "258/258 [==============================] - 11s 43ms/step - loss: 1.0582e-04 - categorical_accuracy: 0.8172 - val_loss: 0.0418 - val_categorical_accuracy: 0.8756\n",
      "Epoch 7/20\n",
      "258/258 [==============================] - 12s 45ms/step - loss: 7.6212e-05 - categorical_accuracy: 0.8197 - val_loss: 0.0440 - val_categorical_accuracy: 0.8729\n",
      "Epoch 8/20\n",
      "258/258 [==============================] - 12s 45ms/step - loss: 6.4242e-05 - categorical_accuracy: 0.8246 - val_loss: 0.0452 - val_categorical_accuracy: 0.8702\n",
      "Epoch 9/20\n",
      "258/258 [==============================] - 12s 45ms/step - loss: 4.9540e-05 - categorical_accuracy: 0.8239 - val_loss: 0.0453 - val_categorical_accuracy: 0.8440\n",
      "Epoch 10/20\n",
      "258/258 [==============================] - 12s 46ms/step - loss: 3.9696e-05 - categorical_accuracy: 0.8240 - val_loss: 0.0472 - val_categorical_accuracy: 0.8685\n",
      "Epoch 11/20\n",
      "258/258 [==============================] - 12s 46ms/step - loss: 3.4093e-05 - categorical_accuracy: 0.8385 - val_loss: 0.0479 - val_categorical_accuracy: 0.8620\n",
      "Epoch 12/20\n",
      "258/258 [==============================] - 13s 48ms/step - loss: 5.0622e-05 - categorical_accuracy: 0.8362 - val_loss: 0.0478 - val_categorical_accuracy: 0.8642\n",
      "Epoch 13/20\n",
      "258/258 [==============================] - 12s 47ms/step - loss: 5.1691e-05 - categorical_accuracy: 0.8206 - val_loss: 0.0484 - val_categorical_accuracy: 0.8478\n",
      "Epoch 14/20\n",
      "258/258 [==============================] - 12s 47ms/step - loss: 8.8658e-04 - categorical_accuracy: 0.8162 - val_loss: 0.0378 - val_categorical_accuracy: 0.8729\n",
      "Epoch 15/20\n",
      "258/258 [==============================] - 13s 48ms/step - loss: 0.0020 - categorical_accuracy: 0.8438 - val_loss: 0.0403 - val_categorical_accuracy: 0.8669\n",
      "Epoch 16/20\n",
      "258/258 [==============================] - 13s 49ms/step - loss: 0.0017 - categorical_accuracy: 0.7850 - val_loss: 0.0455 - val_categorical_accuracy: 0.8642\n",
      "Epoch 17/20\n",
      "258/258 [==============================] - 13s 49ms/step - loss: 0.0010 - categorical_accuracy: 0.7678 - val_loss: 0.0482 - val_categorical_accuracy: 0.8674\n",
      "Epoch 18/20\n",
      "258/258 [==============================] - 13s 49ms/step - loss: 5.6535e-04 - categorical_accuracy: 0.7690 - val_loss: 0.0531 - val_categorical_accuracy: 0.8445\n",
      "Epoch 19/20\n",
      "258/258 [==============================] - 13s 49ms/step - loss: 2.9451e-04 - categorical_accuracy: 0.7494 - val_loss: 0.0565 - val_categorical_accuracy: 0.8314\n",
      "Epoch 20/20\n",
      "258/258 [==============================] - 13s 49ms/step - loss: 1.3262e-04 - categorical_accuracy: 0.7421 - val_loss: 0.0596 - val_categorical_accuracy: 0.8292\n"
     ]
    },
    {
     "data": {
      "image/png": "[encoded data removed]",
      "text/plain": [
       "<Figure size 432x288 with 1 Axes>"
      ]
     },
     "metadata": {
      "needs_background": "light"
     },
     "output_type": "display_data"
    },
    {
     "data": {
      "image/png": "[encoded data removed]",
      "text/plain": [
       "<Figure size 432x288 with 1 Axes>"
      ]
     },
     "metadata": {
      "needs_background": "light"
     },
     "output_type": "display_data"
    }
   ],
   "source": [
    "epochs = 20\n",
    "\n",
    "shallow_mlp_model = make_model()\n",
    "shallow_mlp_model.compile(\n",
    "    loss=\"binary_crossentropy\", optimizer=\"adam\", metrics=[\"categorical_accuracy\"]\n",
    ")\n",
    "\n",
    "history = shallow_mlp_model.fit(\n",
    "    train_dataset, validation_data=validation_dataset, epochs=epochs\n",
    ")\n",
    "\n",
    "\n",
    "def plot_result(item):\n",
    "    plt.plot(history.history[item], label=item)\n",
    "    plt.plot(history.history[\"val_\" + item], label=\"val_\" + item)\n",
    "    plt.xlabel(\"Epochs\")\n",
    "    plt.ylabel(item)\n",
    "    plt.title(\"Train and Validation {} Over Epochs\".format(item), fontsize=14)\n",
    "    plt.legend()\n",
    "    plt.grid()\n",
    "    plt.show()\n",
    "\n",
    "\n",
    "plot_result(\"loss\")\n",
    "plot_result(\"categorical_accuracy\")"
   ]
  },
  {
   "cell_type": "markdown",
   "metadata": {
    "colab_type": "text"
   },
   "source": [
    "While training, we notice an initial sharp fall in the loss followed by a gradual decay."
   ]
  },
  {
   "cell_type": "markdown",
   "metadata": {
    "colab_type": "text"
   },
   "source": [
    "### Evaluate the model"
   ]
  },
  {
   "cell_type": "code",
   "execution_count": 22,
   "metadata": {
    "colab_type": "code"
   },
   "outputs": [
    {
     "name": "stdout",
     "output_type": "stream",
     "text": [
      "15/15 [==============================] - 1s 37ms/step - loss: 0.0605 - categorical_accuracy: 0.8391\n",
      "Categorical accuracy on the test set: 83.91%.\n"
     ]
    }
   ],
   "source": [
    "_, categorical_acc = shallow_mlp_model.evaluate(test_dataset)\n",
    "print(f\"Categorical accuracy on the test set: {round(categorical_acc * 100, 2)}%.\")"
   ]
  },
  {
   "cell_type": "markdown",
   "metadata": {
    "colab_type": "text"
   },
   "source": [
    "The trained model gives us an evaluation accuracy of ~87%."
   ]
  },
  {
   "cell_type": "markdown",
   "metadata": {
    "colab_type": "text"
   },
   "source": [
    "## Inference\n",
    "\n",
    "An important feature of the\n",
    "[preprocessing layers provided by Keras](https://keras.io/guides/preprocessing_layers/)\n",
    "is that they can be included inside a `tf.keras.Model`. We will export an inference model\n",
    "by including the `text_vectorization` layer on top of `shallow_mlp_model`. This will\n",
    "allow our inference model to directly operate on raw strings.\n",
    "\n",
    "**Note** that during training it is always preferable to use these preprocessing\n",
    "layers as a part of the data input pipeline rather than the model to avoid\n",
    "surfacing bottlenecks for the hardware accelerators. This also allows for\n",
    "asynchronous data processing."
   ]
  },
  {
   "cell_type": "code",
   "execution_count": 0,
   "metadata": {
    "colab_type": "code"
   },
   "outputs": [],
   "source": [
    "# Create a model for inference.\n",
    "model_for_inference = keras.Sequential([text_vectorizer, shallow_mlp_model])\n",
    "\n",
    "# Create a small dataset just for demoing inference.\n",
    "inference_dataset = make_dataset(test_df.sample(100), is_train=False)\n",
    "text_batch, label_batch = next(iter(inference_dataset))\n",
    "predicted_probabilities = model_for_inference.predict(text_batch)\n",
    "\n",
    "# Perform inference.\n",
    "for i, text in enumerate(text_batch[:5]):\n",
    "    label = label_batch[i].numpy()[None, ...]\n",
    "    print(f\"Abstract: {text}\")\n",
    "    print(f\"Label(s): {invert_multi_hot(label[0])}\")\n",
    "    predicted_proba = [proba for proba in predicted_probabilities[i]]\n",
    "    top_3_labels = [\n",
    "        x\n",
    "        for _, x in sorted(\n",
    "            zip(predicted_probabilities[i], lookup.get_vocabulary()),\n",
    "            key=lambda pair: pair[0],\n",
    "            reverse=True,\n",
    "        )\n",
    "    ][:3]\n",
    "    print(f\"Predicted Label(s): ({', '.join([label for label in top_3_labels])})\")\n",
    "    print(\" \")"
   ]
  },
  {
   "cell_type": "markdown",
   "metadata": {
    "colab_type": "text"
   },
   "source": [
    "The prediction results are not that great but not below the par for a simple model like\n",
    "ours. We can improve this performance with models that consider word order like LSTM or\n",
    "even those that use Transformers ([Vaswani et al.](https://arxiv.org/abs/1706.03762))."
   ]
  },
  {
   "cell_type": "markdown",
   "metadata": {
    "colab_type": "text"
   },
   "source": [
    "## Acknowledgements\n",
    "\n",
    "We would like to thank [Matt Watson](https://github.com/mattdangerw) for helping us\n",
    "tackle the multi-label binarization part and inverse-transforming the processed labels\n",
    "to the original form."
   ]
  }
 ],
 "metadata": {
  "colab": {
   "collapsed_sections": [],
   "name": "multi_label_classification",
   "private_outputs": false,
   "provenance": [],
   "toc_visible": true
  },
  "kernelspec": {
   "display_name": "Python 3 (ipykernel)",
   "language": "python",
   "name": "python3"
  },
  "language_info": {
   "codemirror_mode": {
    "name": "ipython",
    "version": 3
   },
   "file_extension": ".py",
   "mimetype": "text/x-python",
   "name": "python",
   "nbconvert_exporter": "python",
   "pygments_lexer": "ipython3",
   "version": "3.9.12"
  }
 },
 "nbformat": 4,
 "nbformat_minor": 1
}
